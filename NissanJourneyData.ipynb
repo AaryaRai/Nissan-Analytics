{
 "cells": [
  {
   "cell_type": "code",
   "execution_count": 1,
   "metadata": {},
   "outputs": [],
   "source": [
    "import numpy as np\n",
    "import pandas as pd\n",
    "\n",
    "import matplotlib \n",
    "import matplotlib.pyplot as plt"
   ]
  },
  {
   "cell_type": "code",
   "execution_count": 2,
   "metadata": {},
   "outputs": [],
   "source": [
    "df = pd.read_csv('C:/Users/aarya/Desktop/NissanJourneyProbe.csv')"
   ]
  },
  {
   "cell_type": "code",
   "execution_count": 3,
   "metadata": {},
   "outputs": [],
   "source": [
    "#df.info()\n",
    "#df.head()"
   ]
  },
  {
   "cell_type": "code",
   "execution_count": 4,
   "metadata": {},
   "outputs": [
    {
     "data": {
      "text/plain": [
       "'7/9/2018 21:28'"
      ]
     },
     "execution_count": 4,
     "metadata": {},
     "output_type": "execute_result"
    }
   ],
   "source": [
    "df.iloc[0].loc['Jrny Strt Dt']\n",
    "df.iloc[0].loc['Jrny End Dt']"
   ]
  },
  {
   "cell_type": "code",
   "execution_count": 5,
   "metadata": {},
   "outputs": [],
   "source": [
    "df.loc[df['Jrny Strt Dt'] == '2000-00-00 00:00:00','Jrny Strt Dt'] = '01/01/2000 00:00'\n",
    "df.loc[df['Jrny End Dt'] == '2000-00-00 00:00:00','Jrny End Dt'] = '01/01/2000 00:00'"
   ]
  },
  {
   "cell_type": "code",
   "execution_count": 6,
   "metadata": {},
   "outputs": [],
   "source": [
    "df['Jrny Strt Dt'] = pd.to_datetime(df['Jrny Strt Dt'],format='%m/%d/%Y %H:%M')\n",
    "df['Jrny End Dt'] = pd.to_datetime(df['Jrny End Dt'],format='%m/%d/%Y %H:%M')\n",
    "\n",
    "##Y - four values for year\n",
    "##y - two values for year"
   ]
  },
  {
   "cell_type": "code",
   "execution_count": 7,
   "metadata": {},
   "outputs": [
    {
     "data": {
      "text/plain": [
       "Timestamp('2018-07-09 21:28:00')"
      ]
     },
     "execution_count": 7,
     "metadata": {},
     "output_type": "execute_result"
    }
   ],
   "source": [
    "df['Jrny Strt Dt'].iloc[0]\n",
    "df['Jrny End Dt'].iloc[0]"
   ]
  },
  {
   "cell_type": "code",
   "execution_count": 8,
   "metadata": {},
   "outputs": [
    {
     "data": {
      "text/plain": [
       "Timestamp('2018-07-09 21:58:00')"
      ]
     },
     "execution_count": 8,
     "metadata": {},
     "output_type": "execute_result"
    }
   ],
   "source": [
    "df['Jrny Strt Dt'].iloc[1]\n",
    "df['Jrny End Dt'].iloc[1]"
   ]
  },
  {
   "cell_type": "markdown",
   "metadata": {},
   "source": [
    "### Time Diff"
   ]
  },
  {
   "cell_type": "code",
   "execution_count": 9,
   "metadata": {},
   "outputs": [
    {
     "name": "stdout",
     "output_type": "stream",
     "text": [
      "23.0\n"
     ]
    }
   ],
   "source": [
    "(df['Jrny End Dt'].iloc[0] - df['Jrny Strt Dt'].iloc[0]).seconds\n",
    "print(1380/60)"
   ]
  },
  {
   "cell_type": "code",
   "execution_count": 10,
   "metadata": {},
   "outputs": [],
   "source": [
    "a = np.zeros(shape=(500,1))\n",
    "df1 = a\n",
    "#print(df1)"
   ]
  },
  {
   "cell_type": "code",
   "execution_count": 53,
   "metadata": {},
   "outputs": [
    {
     "name": "stdout",
     "output_type": "stream",
     "text": [
      "1403880\n"
     ]
    }
   ],
   "source": [
    "sum = 0\n",
    "for i in range(0,500):\n",
    "    journy_duration = (df['Jrny End Dt'].iloc[i] - df['Jrny Strt Dt'].iloc[i]).seconds\n",
    "    a[i] = journy_duration/60\n",
    "    sum = sum + journy_duration    \n",
    "print(sum)\n",
    "df1 = a\n",
    "df['Journey Duration (minutes)']=df1 \n"
   ]
  },
  {
   "cell_type": "code",
   "execution_count": 12,
   "metadata": {},
   "outputs": [
    {
     "name": "stdout",
     "output_type": "stream",
     "text": [
      "21:33:00\n",
      "2018-07-09\n"
     ]
    }
   ],
   "source": [
    "print(df['Jrny Strt Dt'].iloc[1].time())\n",
    "print(df['Jrny Strt Dt'].iloc[1].date())\n",
    "#https://pandas.pydata.org/pandas-docs/version/0.23.4/generated/pandas.Timestamp.html"
   ]
  },
  {
   "attachments": {},
   "cell_type": "markdown",
   "metadata": {},
   "source": [
    "### 1. Querying all the journeys with the journey duration(mins) between a given date range"
   ]
  },
  {
   "cell_type": "code",
   "execution_count": 56,
   "metadata": {},
   "outputs": [
    {
     "data": {
      "text/html": [
       "<div>\n",
       "<style scoped>\n",
       "    .dataframe tbody tr th:only-of-type {\n",
       "        vertical-align: middle;\n",
       "    }\n",
       "\n",
       "    .dataframe tbody tr th {\n",
       "        vertical-align: top;\n",
       "    }\n",
       "\n",
       "    .dataframe thead th {\n",
       "        text-align: right;\n",
       "    }\n",
       "</style>\n",
       "<table border=\"1\" class=\"dataframe\">\n",
       "  <thead>\n",
       "    <tr style=\"text-align: right;\">\n",
       "      <th></th>\n",
       "      <th>Wrkflw Id</th>\n",
       "      <th>Vin Id</th>\n",
       "      <th>Tlmtc Fl Nm</th>\n",
       "      <th>Vhcl Mk Nm</th>\n",
       "      <th>Vhcl Nmc Mdl Nm</th>\n",
       "      <th>Vhcl Yr Nb</th>\n",
       "      <th>Rpms Over4000</th>\n",
       "      <th>Rpms Over6000</th>\n",
       "      <th>Jrny Strt Dt</th>\n",
       "      <th>Jrny End Dt</th>\n",
       "      <th>...</th>\n",
       "      <th>Frnt Sttng Tire Prsur Nb</th>\n",
       "      <th>Rear Sttng Tire Prsur Nb</th>\n",
       "      <th>Crte Ts</th>\n",
       "      <th>Crte Usr Id</th>\n",
       "      <th>Updt Ts</th>\n",
       "      <th>Updt Usr Id</th>\n",
       "      <th>Tlmtc Fl Gnrtd Yr Nb</th>\n",
       "      <th>Tlmtc Fl Gnrtd Mnth Nb</th>\n",
       "      <th>Tlmtc Fl Gnrtd Dy Nb</th>\n",
       "      <th>Journey Duration (minutes)</th>\n",
       "    </tr>\n",
       "  </thead>\n",
       "  <tbody>\n",
       "    <tr>\n",
       "      <th>0</th>\n",
       "      <td>0007941-180620161858715-oozie-oozi-W</td>\n",
       "      <td>1N4AA6AP3GC388663</td>\n",
       "      <td>SXMN_1N4AA6AP3GC388663_2_19901231235959.dat</td>\n",
       "      <td>Nissan</td>\n",
       "      <td>MAXIMA</td>\n",
       "      <td>2016.0</td>\n",
       "      <td>0</td>\n",
       "      <td>0</td>\n",
       "      <td>2018-07-09 21:05:00</td>\n",
       "      <td>2018-07-09 21:28:00</td>\n",
       "      <td>...</td>\n",
       "      <td>0</td>\n",
       "      <td>0</td>\n",
       "      <td>7/9/2018 15:47</td>\n",
       "      <td>x981131</td>\n",
       "      <td>7/9/2018 15:47</td>\n",
       "      <td>x981131</td>\n",
       "      <td>1,990</td>\n",
       "      <td>12</td>\n",
       "      <td>31</td>\n",
       "      <td>23.0</td>\n",
       "    </tr>\n",
       "  </tbody>\n",
       "</table>\n",
       "<p>1 rows × 32 columns</p>\n",
       "</div>"
      ],
      "text/plain": [
       "                              Wrkflw Id             Vin Id  \\\n",
       "0  0007941-180620161858715-oozie-oozi-W  1N4AA6AP3GC388663   \n",
       "\n",
       "                                   Tlmtc Fl Nm Vhcl Mk Nm Vhcl Nmc Mdl Nm  \\\n",
       "0  SXMN_1N4AA6AP3GC388663_2_19901231235959.dat     Nissan          MAXIMA   \n",
       "\n",
       "   Vhcl Yr Nb  Rpms Over4000  Rpms Over6000        Jrny Strt Dt  \\\n",
       "0      2016.0              0              0 2018-07-09 21:05:00   \n",
       "\n",
       "          Jrny End Dt             ...             Frnt Sttng Tire Prsur Nb  \\\n",
       "0 2018-07-09 21:28:00             ...                                    0   \n",
       "\n",
       "  Rear Sttng Tire Prsur Nb         Crte Ts Crte Usr Id         Updt Ts  \\\n",
       "0                        0  7/9/2018 15:47     x981131  7/9/2018 15:47   \n",
       "\n",
       "   Updt Usr Id  Tlmtc Fl Gnrtd Yr Nb  Tlmtc Fl Gnrtd Mnth Nb  \\\n",
       "0      x981131                 1,990                      12   \n",
       "\n",
       "   Tlmtc Fl Gnrtd Dy Nb  Journey Duration (minutes)  \n",
       "0                    31                        23.0  \n",
       "\n",
       "[1 rows x 32 columns]"
      ]
     },
     "execution_count": 56,
     "metadata": {},
     "output_type": "execute_result"
    }
   ],
   "source": [
    "def journeys(start_date, end_date, Vin_id ):\n",
    "    data=df[(df['Jrny Strt Dt'] > start_date) & (df['Jrny End Dt'] <= end_date) & (df['Vin Id'] ==Vin_id)]\n",
    "    return (data)\n",
    "\n",
    "journeys('2018-07-09', '2018-08-09', \"1N4AA6AP3GC388663\")"
   ]
  },
  {
   "cell_type": "markdown",
   "metadata": {},
   "source": [
    "### 2. Journey Distance and Fuel Consumption"
   ]
  },
  {
   "cell_type": "code",
   "execution_count": 58,
   "metadata": {},
   "outputs": [
    {
     "data": {
      "text/html": [
       "<div>\n",
       "<style scoped>\n",
       "    .dataframe tbody tr th:only-of-type {\n",
       "        vertical-align: middle;\n",
       "    }\n",
       "\n",
       "    .dataframe tbody tr th {\n",
       "        vertical-align: top;\n",
       "    }\n",
       "\n",
       "    .dataframe thead th {\n",
       "        text-align: right;\n",
       "    }\n",
       "</style>\n",
       "<table border=\"1\" class=\"dataframe\">\n",
       "  <thead>\n",
       "    <tr style=\"text-align: right;\">\n",
       "      <th></th>\n",
       "      <th>Vin Id</th>\n",
       "      <th>Jrny Strt Dt</th>\n",
       "      <th>Jrny End Dt</th>\n",
       "      <th>Jrny Dstnc Trvl Mile Nb</th>\n",
       "      <th>Jrny Fuel Cnsmpn Nb</th>\n",
       "    </tr>\n",
       "  </thead>\n",
       "  <tbody>\n",
       "    <tr>\n",
       "      <th>1</th>\n",
       "      <td>5N1DR2MM6HC908653</td>\n",
       "      <td>2018-07-09 21:33:00</td>\n",
       "      <td>2018-07-09 21:58:00</td>\n",
       "      <td>5.08</td>\n",
       "      <td>0.45</td>\n",
       "    </tr>\n",
       "  </tbody>\n",
       "</table>\n",
       "</div>"
      ],
      "text/plain": [
       "              Vin Id        Jrny Strt Dt         Jrny End Dt  \\\n",
       "1  5N1DR2MM6HC908653 2018-07-09 21:33:00 2018-07-09 21:58:00   \n",
       "\n",
       "   Jrny Dstnc Trvl Mile Nb  Jrny Fuel Cnsmpn Nb  \n",
       "1                     5.08                 0.45  "
      ]
     },
     "execution_count": 58,
     "metadata": {},
     "output_type": "execute_result"
    }
   ],
   "source": [
    "def journey_distance(start_date, end_date, Vin_id):\n",
    "    df1 = df[(df['Jrny Strt Dt'] > start_date) & (df['Jrny End Dt'] <= end_date) & (df['Vin Id'] == Vin_Id)]\n",
    "    data = df1[['Vin Id','Jrny Strt Dt', 'Jrny End Dt','Jrny Dstnc Trvl Mile Nb','Jrny Fuel Cnsmpn Nb']]\n",
    "    return (data)\n",
    "\n",
    "journey_distance('2018-07-09', '2018-08-09', \"1N4AA6AP3GC388663\")"
   ]
  },
  {
   "cell_type": "markdown",
   "metadata": {},
   "source": [
    "### 3. Miles covered, fuel consumed and avg. fuel mileage (MPG - mileage per gallon)."
   ]
  },
  {
   "cell_type": "markdown",
   "metadata": {},
   "source": [
    "#### a. Total Miles covered for a particular Vin Id"
   ]
  },
  {
   "cell_type": "code",
   "execution_count": 60,
   "metadata": {},
   "outputs": [
    {
     "name": "stdout",
     "output_type": "stream",
     "text": [
      "5.08\n"
     ]
    }
   ],
   "source": [
    "def miles_covered (start_date, end_date, Vin_id):\n",
    "    df4 = df[(df['Jrny Strt Dt'] > start_date) & (df['Jrny End Dt'] <= end_date) & (df['Vin Id'] == Vin_Id)]\n",
    "    n = df4['Jrny Strt Dt'].count()\n",
    "    total_miles_covered = 0\n",
    "    for i in range(0,n):\n",
    "        miles_covered = df4['Jrny Dstnc Trvl Mile Nb'].iloc[i]\n",
    "        total_miles_covered = total_miles_covered + miles_covered\n",
    "        print(total_miles_covered)\n",
    "   \n",
    "miles_covered('2018-07-09', '2018-08-09', \"1N4AA6AP3GC388663\")"
   ]
  },
  {
   "cell_type": "code",
   "execution_count": null,
   "metadata": {},
   "outputs": [],
   "source": [
    "start_date = '2018-07-09'\n",
    "end_date = '2018-08-09'\n",
    "Vin_Id = \"5N1DR2MM6HC908653\"\n",
    "\n",
    "df4 = df[(df['Jrny Strt Dt'] > start_date) & (df['Jrny End Dt'] <= end_date) & (df['Vin Id'] == Vin_Id)]\n",
    "n = df4['Jrny Strt Dt'].count()\n",
    "\n",
    "total_miles_covered = 0\n",
    "for i in range(0,n):\n",
    "    miles_covered = df4['Jrny Dstnc Trvl Mile Nb'].iloc[i]\n",
    "    total_miles_covered = total_miles_covered + miles_covered\n",
    "print(total_miles_covered)"
   ]
  },
  {
   "cell_type": "markdown",
   "metadata": {},
   "source": [
    "#### a. Total fuel consumed for a particular Vin Id"
   ]
  },
  {
   "cell_type": "code",
   "execution_count": 61,
   "metadata": {},
   "outputs": [
    {
     "name": "stdout",
     "output_type": "stream",
     "text": [
      "0.45\n"
     ]
    }
   ],
   "source": [
    "def Fuel_consumed (start_date, end_date, Vin_id):\n",
    "    df4 = df[(df['Jrny Strt Dt'] > start_date) & (df['Jrny End Dt'] <= end_date) & (df['Vin Id'] == Vin_Id)]\n",
    "    n = df4['Jrny Strt Dt'].count()\n",
    "    total_miles_covered = 0\n",
    "    for i in range(0,n):\n",
    "        miles_covered = df4['Jrny Fuel Cnsmpn Nb'].iloc[i]\n",
    "        total_miles_covered = total_miles_covered + miles_covered\n",
    "        print(total_miles_covered)\n",
    "   \n",
    "Fuel_consumed('2018-07-09', '2018-08-09', \"1N4AA6AP3GC388663\")"
   ]
  },
  {
   "cell_type": "markdown",
   "metadata": {},
   "source": [
    "#### Average Fuel Mileage"
   ]
  },
  {
   "cell_type": "code",
   "execution_count": 63,
   "metadata": {},
   "outputs": [
    {
     "name": "stdout",
     "output_type": "stream",
     "text": [
      "11.28888888888889\n"
     ]
    }
   ],
   "source": [
    "avg_fuel_mileage = (total_miles_covered/ total_fuel_consumed)\n",
    "print(avg_fuel_mileage)"
   ]
  },
  {
   "cell_type": "markdown",
   "metadata": {},
   "source": [
    "### 4. a) Excessive Acceleration Events"
   ]
  },
  {
   "cell_type": "code",
   "execution_count": 65,
   "metadata": {},
   "outputs": [
    {
     "data": {
      "text/html": [
       "<div>\n",
       "<style scoped>\n",
       "    .dataframe tbody tr th:only-of-type {\n",
       "        vertical-align: middle;\n",
       "    }\n",
       "\n",
       "    .dataframe tbody tr th {\n",
       "        vertical-align: top;\n",
       "    }\n",
       "\n",
       "    .dataframe thead th {\n",
       "        text-align: right;\n",
       "    }\n",
       "</style>\n",
       "<table border=\"1\" class=\"dataframe\">\n",
       "  <thead>\n",
       "    <tr style=\"text-align: right;\">\n",
       "      <th></th>\n",
       "      <th>Vin Id</th>\n",
       "      <th>Jrny Strt Dt</th>\n",
       "      <th>Jrny End Dt</th>\n",
       "      <th>Rpms Over4000</th>\n",
       "      <th>Jrny Dstnc Trvl Mile Nb</th>\n",
       "      <th>Jrny Fuel Cnsmpn Nb</th>\n",
       "    </tr>\n",
       "  </thead>\n",
       "  <tbody>\n",
       "  </tbody>\n",
       "</table>\n",
       "</div>"
      ],
      "text/plain": [
       "Empty DataFrame\n",
       "Columns: [Vin Id, Jrny Strt Dt, Jrny End Dt, Rpms Over4000, Jrny Dstnc Trvl Mile Nb, Jrny Fuel Cnsmpn Nb]\n",
       "Index: []"
      ]
     },
     "execution_count": 65,
     "metadata": {},
     "output_type": "execute_result"
    }
   ],
   "source": [
    "def excessive_accn(start_date, end_date, Vin_id, rpms_over4000):\n",
    "    df2 = df[(df['Jrny Strt Dt'] > start_date) & (df['Jrny End Dt'] <= end_date) & (df['Vin Id'] == Vin_Id) & (df['Rpms Over4000'] > rpms_over4000)]\n",
    "    data = df2[['Vin Id','Jrny Strt Dt','Jrny End Dt','Rpms Over4000','Jrny Dstnc Trvl Mile Nb','Jrny Fuel Cnsmpn Nb']]\n",
    "    return (data)\n",
    "\n",
    "excessive_accn('2018-07-09', '2018-08-09', \"1N4AA6AP5GC410517\", 0)"
   ]
  },
  {
   "cell_type": "code",
   "execution_count": 66,
   "metadata": {},
   "outputs": [
    {
     "data": {
      "text/html": [
       "<div>\n",
       "<style scoped>\n",
       "    .dataframe tbody tr th:only-of-type {\n",
       "        vertical-align: middle;\n",
       "    }\n",
       "\n",
       "    .dataframe tbody tr th {\n",
       "        vertical-align: top;\n",
       "    }\n",
       "\n",
       "    .dataframe thead th {\n",
       "        text-align: right;\n",
       "    }\n",
       "</style>\n",
       "<table border=\"1\" class=\"dataframe\">\n",
       "  <thead>\n",
       "    <tr style=\"text-align: right;\">\n",
       "      <th></th>\n",
       "      <th>Vin Id</th>\n",
       "      <th>Jrny Strt Dt</th>\n",
       "      <th>Jrny End Dt</th>\n",
       "      <th>Rpms Over4000</th>\n",
       "      <th>Jrny Dstnc Trvl Mile Nb</th>\n",
       "      <th>Jrny Fuel Cnsmpn Nb</th>\n",
       "    </tr>\n",
       "  </thead>\n",
       "  <tbody>\n",
       "    <tr>\n",
       "      <th>4</th>\n",
       "      <td>1N4AA6AP5GC410517</td>\n",
       "      <td>2018-07-10 22:56:00</td>\n",
       "      <td>2018-07-11 12:07:00</td>\n",
       "      <td>2</td>\n",
       "      <td>44.29</td>\n",
       "      <td>1.44</td>\n",
       "    </tr>\n",
       "  </tbody>\n",
       "</table>\n",
       "</div>"
      ],
      "text/plain": [
       "              Vin Id        Jrny Strt Dt         Jrny End Dt  Rpms Over4000  \\\n",
       "4  1N4AA6AP5GC410517 2018-07-10 22:56:00 2018-07-11 12:07:00              2   \n",
       "\n",
       "   Jrny Dstnc Trvl Mile Nb  Jrny Fuel Cnsmpn Nb  \n",
       "4                    44.29                 1.44  "
      ]
     },
     "execution_count": 66,
     "metadata": {},
     "output_type": "execute_result"
    }
   ],
   "source": [
    "start_date = '2018-07-09'\n",
    "end_date = '2018-08-09'\n",
    "Vin_Id =\"1N4AA6AP5GC410517\"\n",
    "rpms_over4000 = 0\n",
    "\n",
    "df2 = df[(df['Jrny Strt Dt'] > start_date) & (df['Jrny End Dt'] <= end_date) & (df['Vin Id'] == Vin_Id) & (df['Rpms Over4000'] > rpms_over4000)]\n",
    "df2[['Vin Id','Jrny Strt Dt','Jrny End Dt','Rpms Over4000','Jrny Dstnc Trvl Mile Nb','Jrny Fuel Cnsmpn Nb']]"
   ]
  },
  {
   "cell_type": "markdown",
   "metadata": {},
   "source": [
    "### 4. b) Quering the Engine Warm-up time and the pressure of the four tires"
   ]
  },
  {
   "cell_type": "code",
   "execution_count": 17,
   "metadata": {},
   "outputs": [
    {
     "data": {
      "text/html": [
       "<div>\n",
       "<style scoped>\n",
       "    .dataframe tbody tr th:only-of-type {\n",
       "        vertical-align: middle;\n",
       "    }\n",
       "\n",
       "    .dataframe tbody tr th {\n",
       "        vertical-align: top;\n",
       "    }\n",
       "\n",
       "    .dataframe thead th {\n",
       "        text-align: right;\n",
       "    }\n",
       "</style>\n",
       "<table border=\"1\" class=\"dataframe\">\n",
       "  <thead>\n",
       "    <tr style=\"text-align: right;\">\n",
       "      <th></th>\n",
       "      <th>Vin Id</th>\n",
       "      <th>Jrny Strt Dt</th>\n",
       "      <th>Jrny End Dt</th>\n",
       "      <th>Jrny Dstnc Trvl Mile Nb</th>\n",
       "      <th>Engn Wup Tm</th>\n",
       "      <th>Frnt Rght Tire Psi Nb</th>\n",
       "      <th>Frnt Lft Tire Psi Nb</th>\n",
       "      <th>Rear Rght Tire Psi Nb</th>\n",
       "      <th>Rear Lft Tire Psi Nb</th>\n",
       "    </tr>\n",
       "  </thead>\n",
       "  <tbody>\n",
       "    <tr>\n",
       "      <th>4</th>\n",
       "      <td>1N4AA6AP5GC410517</td>\n",
       "      <td>2018-07-10 22:56:00</td>\n",
       "      <td>2018-07-11 12:07:00</td>\n",
       "      <td>44.29</td>\n",
       "      <td>6</td>\n",
       "      <td>37.5</td>\n",
       "      <td>37.75</td>\n",
       "      <td>38.0</td>\n",
       "      <td>37.0</td>\n",
       "    </tr>\n",
       "  </tbody>\n",
       "</table>\n",
       "</div>"
      ],
      "text/plain": [
       "              Vin Id        Jrny Strt Dt         Jrny End Dt  \\\n",
       "4  1N4AA6AP5GC410517 2018-07-10 22:56:00 2018-07-11 12:07:00   \n",
       "\n",
       "   Jrny Dstnc Trvl Mile Nb  Engn Wup Tm  Frnt Rght Tire Psi Nb  \\\n",
       "4                    44.29            6                   37.5   \n",
       "\n",
       "   Frnt Lft Tire Psi Nb  Rear Rght Tire Psi Nb  Rear Lft Tire Psi Nb  \n",
       "4                 37.75                   38.0                  37.0  "
      ]
     },
     "execution_count": 17,
     "metadata": {},
     "output_type": "execute_result"
    }
   ],
   "source": [
    "start_date = '2018-07-09'\n",
    "end_date = '2018-08-09'\n",
    "Vin_Id =\"1N4AA6AP5GC410517\"\n",
    "\n",
    "df3 = df[(df['Jrny Strt Dt'] > start_date) & (df['Jrny End Dt'] <= end_date) & (df['Vin Id'] == Vin_Id)]\n",
    "df3[['Vin Id','Jrny Strt Dt','Jrny End Dt','Jrny Dstnc Trvl Mile Nb','Engn Wup Tm','Frnt Rght Tire Psi Nb','Frnt Lft Tire Psi Nb','Rear Rght Tire Psi Nb','Rear Lft Tire Psi Nb']]"
   ]
  },
  {
   "cell_type": "code",
   "execution_count": null,
   "metadata": {},
   "outputs": [],
   "source": []
  }
 ],
 "metadata": {
  "kernelspec": {
   "display_name": "Python 3",
   "language": "python",
   "name": "python3"
  },
  "language_info": {
   "codemirror_mode": {
    "name": "ipython",
    "version": 3
   },
   "file_extension": ".py",
   "mimetype": "text/x-python",
   "name": "python",
   "nbconvert_exporter": "python",
   "pygments_lexer": "ipython3",
   "version": "3.6.5"
  }
 },
 "nbformat": 4,
 "nbformat_minor": 2
}
